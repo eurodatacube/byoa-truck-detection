{
 "cells": [
  {
   "cell_type": "markdown",
   "source": [
    "# Detect Trucks Sentinel-2\n",
    "\n",
    "This Jupyter Notebook presents the workflow developped by Henrick Fisser (henrik.fisser@t-online.de) to detect moving trucks in Sentinel-2 images in the context of the [COVID-19 Custom Script Contest](https://www.esa.int/Applications/Observing_the_Earth/Monitoring_trucks_and_trade_from_space) organized by ESA and Euro Data Cube.\n",
    "\n",
    "The original Jupyter Notebook allowing the algorithm to be run on small areas is available in the Euro Data Cube [marketplace](https://eurodatacube.com/marketplace/notebooks/contributions/Detect_Trucks_Sentinel2.ipynb). The version presented in this Notebook has been optimised for the large-scale application of the workflow. \n",
    "\n"
   ],
   "metadata": {}
  },
  {
   "cell_type": "code",
   "execution_count": null,
   "source": [
    "# Configure logging to stderr such that messages appear in notebook\n",
    "# NOTE: Logging messages from python files which are called from the notebook \n",
    "#       will then also appear in the notebook.\n",
    "import logging\n",
    "logging.basicConfig(\n",
    "    level=logging.ERROR,\n",
    "    format='%(asctime)s [%(levelname)s] %(name)s - %(message)s',\n",
    ")"
   ],
   "outputs": [],
   "metadata": {}
  },
  {
   "cell_type": "markdown",
   "source": [
    "## Before you start\n",
    "\n",
    "### Requirements\n",
    "\n",
    "In order to run the algorithm in this Jupyter Notebook the following subscriptions are needed:\n",
    "\n",
    "- a subscription to EOxHub on the Euro Data Cube: Standard Plan (recommendation)\n",
    "- a subscription to EDC Sentinel Hub on the Euro Data Cube: Enterprise L plan (recommendation). Please note that an Enterprise account is needed in order to support the [Batch API](https://docs.sentinel-hub.com/api/latest/api/batch/)\n",
    "- access to a cloud storage bucket (this workflow is based on AWS S3) that has been [pre-configured](https://docs.sentinel-hub.com/api/latest/api/batch/#aws-s3-bucket-settings)\n"
   ],
   "metadata": {}
  },
  {
   "cell_type": "markdown",
   "source": [
    "### Import libraries\n",
    "\n",
    "The following libraries are pre-configured in your JupyterLab environement on the Euro Data Cube.\n",
    "\n",
    "For this developement version, the Truck Detection library should be imported from the internal repository."
   ],
   "metadata": {}
  },
  {
   "cell_type": "markdown",
   "source": [
    "The `OSMPythonTools` is not installed by default on your Euro Data Cube workspace. If it hasn't yet been installed, the following cell will do."
   ],
   "metadata": {}
  },
  {
   "cell_type": "code",
   "execution_count": 2,
   "source": [
    "# installations\n",
    "import sys\n",
    "import subprocess\n",
    "def install_package(pkg):\n",
    "    subprocess.check_call([sys.executable, \"-m\", \"pip\", \"install\", pkg])\n",
    "install_package(\"OSMPythonTools\")"
   ],
   "outputs": [],
   "metadata": {}
  },
  {
   "cell_type": "code",
   "execution_count": 3,
   "source": [
    "# Sentinel Hub\n",
    "from sentinelhub import BBox\n",
    "\n",
    "# Utilities\n",
    "from os import environ\n",
    "from shapely.geometry import mapping\n",
    "from shapely.wkt import loads\n",
    "import IPython.display\n",
    "import yaml\n",
    "\n",
    "# Truck detection algorithm\n",
    "import truck_detection\n",
    "\n",
    "# GeoDB\n",
    "from xcube_geodb.core.geodb import GeoDBClient"
   ],
   "outputs": [],
   "metadata": {}
  },
  {
   "cell_type": "markdown",
   "source": [
    "## Credentials generation\n",
    "\n",
    "### Sentinel Hub services\n",
    "The credentials for Sentinel Hub services are automatically set by the Euro Data Cube libraries in the following cell."
   ],
   "metadata": {}
  },
  {
   "cell_type": "code",
   "execution_count": 4,
   "source": [
    "# Fetch credentials as environement variables\n",
    "#setup_environment_variables()\n",
    "import os\n",
    "\n",
    "# Pass Sentinel Hub credentials to dictionnary\n",
    "sh_credentials = dict(client_id=os.environ[\"SH_CLIENT_ID\"],\n",
    "                      client_secret=os.environ[\"SH_CLIENT_SECRET\"])"
   ],
   "outputs": [
    {
     "output_type": "display_data",
     "data": {
      "text/plain": [
       "<IPython.core.display.Markdown object>"
      ],
      "text/markdown": [
       "API credentials have automatically been injected for your active subscriptions.  \n",
       "The following environment variables are now available:\n",
       "* `GEODB_API_SERVER_PORT`, `GEODB_API_SERVER_URL`, `GEODB_AUTH_AUD`, `GEODB_AUTH_CLIENT_ID`, `GEODB_AUTH_CLIENT_SECRET`, `GEODB_AUTH_DOMAIN`\n",
       "* `SH_CLIENT_ID`, `SH_CLIENT_NAME`, `SH_CLIENT_SECRET`, `SH_INSTANCE_ID`\n",
       "\n"
      ]
     },
     "metadata": {}
    }
   ],
   "metadata": {}
  },
  {
   "cell_type": "markdown",
   "source": [
    "### Amazon AWS S3\n",
    "\n",
    "The Batch Processing API needs to access an AWS S3 bucket to write the Sentinel-2 products (raw bands and derived products) needed to run the algorithm. \n",
    "\n",
    "For safety purposes, it is recommended to save a file named `.env` in the same directory as this notebook. The file should be structured in the following format:\n",
    "\n",
    "```\n",
    "user:\n",
    "    AWS_CLIENT: \"your-aws-client\"\n",
    "    AWS_SECRET: \"your-aws-secret-key\"\n",
    "bucket:\n",
    "    NAME: \"your-aws-s3-bucket-name\"\n",
    "```\n",
    "An example file is provided in the repository.\n",
    "\n",
    "Please note that your AWS bucket should be located in `eu-central-1` and be configured for use with Sentinel Hub services (https://docs.sentinel-hub.com/api/latest/api/batch/#aws-s3-bucket-settings)."
   ],
   "metadata": {}
  },
  {
   "cell_type": "code",
   "execution_count": 5,
   "source": [
    "# Store in variables\n",
    "AWS_CLIENT = os.environ[\"AWS_CLIENT\"]\n",
    "AWS_SECRET = os.environ[\"AWS_SECRET\"]\n",
    "S3_BUCKET = os.environ[\"BUCKET_NAME\"]"
   ],
   "outputs": [],
   "metadata": {}
  },
  {
   "cell_type": "markdown",
   "source": [
    "## Set up input parameters\n"
   ],
   "metadata": {}
  },
  {
   "cell_type": "markdown",
   "source": [
    "### 1) Area of Interest\n",
    "\n",
    "In the following cell we will set the bounding box that covers the AOI and the projection code of the coordinates of the bounding box ([EPSG code](https://spatialreference.org/))."
   ],
   "metadata": {}
  },
  {
   "cell_type": "code",
   "execution_count": 26,
   "source": [
    "# Specify a bounding box and projection code\n",
    "bbox_aoi = 'POLYGON ((2.768549 42.410784, 2.769 42.410784, 2.769 42.411, 2.768549 42.411, 2.768549 42.410784))'"
   ],
   "outputs": [],
   "metadata": {}
  },
  {
   "cell_type": "code",
   "execution_count": 27,
   "source": [
    "# Plot the AOI\n",
    "IPython.display.GeoJSON(mapping(loads(bbox_aoi)))"
   ],
   "outputs": [
    {
     "output_type": "display_data",
     "data": {
      "text/plain": [
       "<IPython.display.GeoJSON object>"
      ],
      "application/geo+json": {
       "coordinates": [
        [
         [
          2.768549,
          42.410784
         ],
         [
          2.768549,
          42.540939
         ],
         [
          2.936134,
          42.540939
         ],
         [
          2.936134,
          42.410784
         ],
         [
          2.768549,
          42.410784
         ]
        ]
       ],
       "crs": {
        "properties": {
         "name": "urn:ogc:def:crs:EPSG::4326"
        },
        "type": "name"
       },
       "type": "Polygon"
      }
     },
     "metadata": {
      "application/geo+json": {
       "expanded": false,
       "root": "root"
      }
     }
    }
   ],
   "metadata": {}
  },
  {
   "cell_type": "markdown",
   "source": [
    "### 2) Time period\n",
    "\n",
    "In the following cell the time-period over which the algorithm will be run is defined. Furthermore a filter that allows to select which days of the week to be considered is also set. If the filter is not set, acquisitions on all days will be considered."
   ],
   "metadata": {}
  },
  {
   "cell_type": "code",
   "execution_count": 28,
   "source": [
    "# Set overall time-period\n",
    "time_period = [\"2018-04-01\", \"2018-06-21\"]\n",
    "\n",
    "# Set a filter for days\n",
    "week_days = [\"Tuesday\", \"Wednesday\", \"Thursday\"]"
   ],
   "outputs": [],
   "metadata": {}
  },
  {
   "cell_type": "markdown",
   "source": [
    "### 3) Road types\n",
    "\n",
    "The following cell allows to filter the type of roads (defined by OSM) that are considered to contain trucks. "
   ],
   "metadata": {}
  },
  {
   "cell_type": "code",
   "execution_count": 29,
   "source": [
    "# list of road types to be fetched, they have to be at least three \n",
    "osm_values = ['motorway', 'primary', 'trunk']"
   ],
   "outputs": [],
   "metadata": {}
  },
  {
   "cell_type": "markdown",
   "source": [
    "### 4) Cloud content\n",
    "\n",
    "Specify the maximum cloud coverage (from Sentinel-2 tile metadata) used to return the Sentinel-2 scenes."
   ],
   "metadata": {}
  },
  {
   "cell_type": "code",
   "execution_count": 30,
   "source": [
    "maxCC = 1"
   ],
   "outputs": [],
   "metadata": {}
  },
  {
   "cell_type": "markdown",
   "source": [
    "### 5) Output\n",
    "\n",
    "In this version of the notebook a summary log file of the results is written the the specified output folder."
   ],
   "metadata": {}
  },
  {
   "cell_type": "code",
   "execution_count": 31,
   "source": [
    "results_dir = \"/home/jovyan/result-data\"\n",
    "\n",
    "# NOTE: tiny area for testing:\n",
    "aoi = \"POLYGON ((16.688232 47.815921, 16.688232 48.134017, 17.318573 48.134017, 17.318573 47.815921, 16.688232 47.815921))\"\n",
    "time_period = \"2018-04-01/2018-05-01\"\n",
    "maxCC = 30\n",
    "osm_values = [\"motorway\", \"trunk\"]\n",
    "time_period = \"2021-07-01/2021-08-31\"\n",
    "week_days = [\"Monday\", \"Thursday\"]"
   ],
   "outputs": [],
   "metadata": {
    "tags": [
     "parameters"
    ]
   }
  },
  {
   "cell_type": "markdown",
   "source": [
    "## Initialise Truck Detection class\n",
    "\n",
    "The truck detection class is the main class containing all the parameters and functions to run the Truck detection algorithm.\n",
    "\n",
    "In a first step we pass the input parameters (AOI, projection, time period, but also credentials) to the class."
   ],
   "metadata": {}
  },
  {
   "cell_type": "code",
   "execution_count": 32,
   "source": [
    "# Initialise object\n",
    "trucks = truck_detection.TruckDetector(aoi, 4326, time_period, output_folder=results_dir)\n",
    "\n",
    "# Set credentials (inject them from EDC) for SH services\n",
    "trucks.set_sh_credentials(**sh_credentials)\n",
    "\n",
    "# Set credentials for AWS bucket (from aws_credentials file)\n",
    "trucks.set_aws_credentials(AWS_CLIENT, AWS_SECRET, S3_BUCKET)\n",
    "\n",
    "# Set allowed days for filtering\n",
    "trucks.set_weekdays(week_days)\n",
    "\n",
    "# Set maximum cloud cover allowed\n",
    "trucks.filter[\"MaxCC\"] = maxCC"
   ],
   "outputs": [],
   "metadata": {}
  },
  {
   "cell_type": "markdown",
   "source": [
    "## Fetch input data\n",
    "\n",
    "Fetch all the input data needed to run the Truck Detection Algorithm\n",
    "\n",
    "In a first step, the Sentinel-2 data are requested using Batch Process API."
   ],
   "metadata": {}
  },
  {
   "cell_type": "code",
   "execution_count": 33,
   "source": [
    "trucks.get_sentinel_data()"
   ],
   "outputs": [
    {
     "output_type": "stream",
     "name": "stdout",
     "text": [
      "Batch: f7e1da04-4b76-4d33-ba3d-2cecb3acac92 is CREATED.\n"
     ]
    },
    {
     "output_type": "stream",
     "name": "stderr",
     "text": [
      "8it [03:27, 25.92s/it]                       \n"
     ]
    },
    {
     "output_type": "stream",
     "name": "stdout",
     "text": [
      "Batch: f7e1da04-4b76-4d33-ba3d-2cecb3acac92 is DONE.\n"
     ]
    }
   ],
   "metadata": {}
  },
  {
   "cell_type": "code",
   "execution_count": 34,
   "source": [
    "trucks.batchID"
   ],
   "outputs": [
    {
     "output_type": "execute_result",
     "data": {
      "text/plain": [
       "'f7e1da04-4b76-4d33-ba3d-2cecb3acac92'"
      ]
     },
     "metadata": {},
     "execution_count": 34
    }
   ],
   "metadata": {}
  },
  {
   "cell_type": "code",
   "execution_count": 35,
   "source": [
    "# Check the batch status\n",
    "trucks.batch_status()"
   ],
   "outputs": [
    {
     "output_type": "stream",
     "name": "stdout",
     "text": [
      "DONE\n"
     ]
    }
   ],
   "metadata": {}
  },
  {
   "cell_type": "markdown",
   "source": [
    "### Option to run the algorithm on a previously \n",
    "\n",
    "To retrieve results from a previous Batch request run, please specify the `id` of the request and continue from here."
   ],
   "metadata": {}
  },
  {
   "cell_type": "code",
   "execution_count": 36,
   "source": [
    "# trucks.batchID = 'Your-BatchID'"
   ],
   "outputs": [],
   "metadata": {}
  },
  {
   "cell_type": "markdown",
   "source": [
    "## Obtain tiles' information"
   ],
   "metadata": {}
  },
  {
   "cell_type": "code",
   "execution_count": 37,
   "source": [
    "# Get tiles' geometry, shape, transform, and crs information\n",
    "trucks.get_tile_info()\n",
    "trucks.tile_info"
   ],
   "outputs": [
    {
     "output_type": "execute_result",
     "data": {
      "text/plain": [
       "        tile                                           geometry         shape  \\\n",
       "0  31TDG_8_0  Geometry(POLYGON ((480000 4690000, 480000 4700...  (1000, 1000)   \n",
       "1  31TDG_9_0  Geometry(POLYGON ((490000 4690000, 490000 4700...  (1000, 1000)   \n",
       "2  31TDH_8_9  Geometry(POLYGON ((480000 4700000, 480000 4710...  (1000, 1000)   \n",
       "3  31TDH_9_9  Geometry(POLYGON ((490000 4700000, 490000 4710...  (1000, 1000)   \n",
       "\n",
       "                                           transform  \n",
       "0  (10.0, 0.0, 480000.0, 0.0, -10.0, 4700000.0, 0...  \n",
       "1  (10.0, 0.0, 490000.0, 0.0, -10.0, 4700000.0, 0...  \n",
       "2  (10.0, 0.0, 480000.0, 0.0, -10.0, 4710000.0, 0...  \n",
       "3  (10.0, 0.0, 490000.0, 0.0, -10.0, 4710000.0, 0...  "
      ],
      "text/html": [
       "<div>\n",
       "<style scoped>\n",
       "    .dataframe tbody tr th:only-of-type {\n",
       "        vertical-align: middle;\n",
       "    }\n",
       "\n",
       "    .dataframe tbody tr th {\n",
       "        vertical-align: top;\n",
       "    }\n",
       "\n",
       "    .dataframe thead th {\n",
       "        text-align: right;\n",
       "    }\n",
       "</style>\n",
       "<table border=\"1\" class=\"dataframe\">\n",
       "  <thead>\n",
       "    <tr style=\"text-align: right;\">\n",
       "      <th></th>\n",
       "      <th>tile</th>\n",
       "      <th>geometry</th>\n",
       "      <th>shape</th>\n",
       "      <th>transform</th>\n",
       "    </tr>\n",
       "  </thead>\n",
       "  <tbody>\n",
       "    <tr>\n",
       "      <th>0</th>\n",
       "      <td>31TDG_8_0</td>\n",
       "      <td>Geometry(POLYGON ((480000 4690000, 480000 4700...</td>\n",
       "      <td>(1000, 1000)</td>\n",
       "      <td>(10.0, 0.0, 480000.0, 0.0, -10.0, 4700000.0, 0...</td>\n",
       "    </tr>\n",
       "    <tr>\n",
       "      <th>1</th>\n",
       "      <td>31TDG_9_0</td>\n",
       "      <td>Geometry(POLYGON ((490000 4690000, 490000 4700...</td>\n",
       "      <td>(1000, 1000)</td>\n",
       "      <td>(10.0, 0.0, 490000.0, 0.0, -10.0, 4700000.0, 0...</td>\n",
       "    </tr>\n",
       "    <tr>\n",
       "      <th>2</th>\n",
       "      <td>31TDH_8_9</td>\n",
       "      <td>Geometry(POLYGON ((480000 4700000, 480000 4710...</td>\n",
       "      <td>(1000, 1000)</td>\n",
       "      <td>(10.0, 0.0, 480000.0, 0.0, -10.0, 4710000.0, 0...</td>\n",
       "    </tr>\n",
       "    <tr>\n",
       "      <th>3</th>\n",
       "      <td>31TDH_9_9</td>\n",
       "      <td>Geometry(POLYGON ((490000 4700000, 490000 4710...</td>\n",
       "      <td>(1000, 1000)</td>\n",
       "      <td>(10.0, 0.0, 490000.0, 0.0, -10.0, 4710000.0, 0...</td>\n",
       "    </tr>\n",
       "  </tbody>\n",
       "</table>\n",
       "</div>"
      ]
     },
     "metadata": {},
     "execution_count": 37
    }
   ],
   "metadata": {}
  },
  {
   "cell_type": "markdown",
   "source": [
    "## Fetch OSM data\n",
    "\n",
    "The OSM data is queried in a public geoDB. If there are no results returned the OSm API is triggered (for cases outside Europe)."
   ],
   "metadata": {}
  },
  {
   "cell_type": "code",
   "execution_count": 41,
   "source": [
    "# Get OSM data from GeoDB\n",
    "trucks.get_osm_data(osm_values)\n",
    "trucks.tile_info"
   ],
   "outputs": [
    {
     "output_type": "execute_result",
     "data": {
      "text/plain": [
       "        tile                                           geometry         shape  \\\n",
       "0  31TDG_8_0  Geometry(POLYGON ((480000 4690000, 480000 4700...  (1000, 1000)   \n",
       "1  31TDG_9_0  Geometry(POLYGON ((490000 4690000, 490000 4700...  (1000, 1000)   \n",
       "2  31TDH_8_9  Geometry(POLYGON ((480000 4700000, 480000 4710...  (1000, 1000)   \n",
       "3  31TDH_9_9  Geometry(POLYGON ((490000 4700000, 490000 4710...  (1000, 1000)   \n",
       "\n",
       "                                           transform         CRS  \\\n",
       "0  (10.0, 0.0, 480000.0, 0.0, -10.0, 4700000.0, 0...  EPSG:32631   \n",
       "1  (10.0, 0.0, 490000.0, 0.0, -10.0, 4700000.0, 0...  EPSG:32631   \n",
       "2  (10.0, 0.0, 480000.0, 0.0, -10.0, 4710000.0, 0...  EPSG:32631   \n",
       "3  (10.0, 0.0, 490000.0, 0.0, -10.0, 4710000.0, 0...  EPSG:32631   \n",
       "\n",
       "                                           OSM_roads  \n",
       "0  [[POLYGON ((489490.8004198414 4695377.74955373...  \n",
       "1  [[POLYGON ((490513.4100637027 4692458.43596756...  \n",
       "2  [[POLYGON ((485260.8010099136 4708255.59896215...  \n",
       "3  [[], [], [POLYGON ((491271.7981786217 4709998....  "
      ],
      "text/html": [
       "<div>\n",
       "<style scoped>\n",
       "    .dataframe tbody tr th:only-of-type {\n",
       "        vertical-align: middle;\n",
       "    }\n",
       "\n",
       "    .dataframe tbody tr th {\n",
       "        vertical-align: top;\n",
       "    }\n",
       "\n",
       "    .dataframe thead th {\n",
       "        text-align: right;\n",
       "    }\n",
       "</style>\n",
       "<table border=\"1\" class=\"dataframe\">\n",
       "  <thead>\n",
       "    <tr style=\"text-align: right;\">\n",
       "      <th></th>\n",
       "      <th>tile</th>\n",
       "      <th>geometry</th>\n",
       "      <th>shape</th>\n",
       "      <th>transform</th>\n",
       "      <th>CRS</th>\n",
       "      <th>OSM_roads</th>\n",
       "    </tr>\n",
       "  </thead>\n",
       "  <tbody>\n",
       "    <tr>\n",
       "      <th>0</th>\n",
       "      <td>31TDG_8_0</td>\n",
       "      <td>Geometry(POLYGON ((480000 4690000, 480000 4700...</td>\n",
       "      <td>(1000, 1000)</td>\n",
       "      <td>(10.0, 0.0, 480000.0, 0.0, -10.0, 4700000.0, 0...</td>\n",
       "      <td>EPSG:32631</td>\n",
       "      <td>[[POLYGON ((489490.8004198414 4695377.74955373...</td>\n",
       "    </tr>\n",
       "    <tr>\n",
       "      <th>1</th>\n",
       "      <td>31TDG_9_0</td>\n",
       "      <td>Geometry(POLYGON ((490000 4690000, 490000 4700...</td>\n",
       "      <td>(1000, 1000)</td>\n",
       "      <td>(10.0, 0.0, 490000.0, 0.0, -10.0, 4700000.0, 0...</td>\n",
       "      <td>EPSG:32631</td>\n",
       "      <td>[[POLYGON ((490513.4100637027 4692458.43596756...</td>\n",
       "    </tr>\n",
       "    <tr>\n",
       "      <th>2</th>\n",
       "      <td>31TDH_8_9</td>\n",
       "      <td>Geometry(POLYGON ((480000 4700000, 480000 4710...</td>\n",
       "      <td>(1000, 1000)</td>\n",
       "      <td>(10.0, 0.0, 480000.0, 0.0, -10.0, 4710000.0, 0...</td>\n",
       "      <td>EPSG:32631</td>\n",
       "      <td>[[POLYGON ((485260.8010099136 4708255.59896215...</td>\n",
       "    </tr>\n",
       "    <tr>\n",
       "      <th>3</th>\n",
       "      <td>31TDH_9_9</td>\n",
       "      <td>Geometry(POLYGON ((490000 4700000, 490000 4710...</td>\n",
       "      <td>(1000, 1000)</td>\n",
       "      <td>(10.0, 0.0, 490000.0, 0.0, -10.0, 4710000.0, 0...</td>\n",
       "      <td>EPSG:32631</td>\n",
       "      <td>[[], [], [POLYGON ((491271.7981786217 4709998....</td>\n",
       "    </tr>\n",
       "  </tbody>\n",
       "</table>\n",
       "</div>"
      ]
     },
     "metadata": {},
     "execution_count": 41
    }
   ],
   "metadata": {}
  },
  {
   "cell_type": "markdown",
   "source": [
    "## Process by tiles and write the results to GeoDB"
   ],
   "metadata": {}
  },
  {
   "cell_type": "code",
   "execution_count": 42,
   "source": [
    "# Process by tiles and store the results to GeoDB\n",
    "trucks.process_tiles(out_format=\"gpkg\")"
   ],
   "outputs": [
    {
     "output_type": "stream",
     "name": "stderr",
     "text": [
      "  0%|          | 0/4 [00:00<?, ?it/s]"
     ]
    },
    {
     "output_type": "stream",
     "name": "stdout",
     "text": [
      "Processing rows from 0 to 24\n",
      "Processing rows from 0 to 29\n",
      "Processing rows from 0 to 22\n",
      "Processing rows from 0 to 33\n",
      "Processing rows from 0 to 41\n"
     ]
    },
    {
     "output_type": "stream",
     "name": "stderr",
     "text": [
      " 25%|██▌       | 1/4 [00:06<00:20,  6.69s/it]"
     ]
    },
    {
     "output_type": "stream",
     "name": "stdout",
     "text": [
      "Processing rows from 0 to 17\n",
      "Processing rows from 0 to 15\n",
      "Processing rows from 0 to 14\n",
      "Processing rows from 0 to 13\n",
      "Processing rows from 0 to 42\n"
     ]
    },
    {
     "output_type": "stream",
     "name": "stderr",
     "text": [
      " 50%|█████     | 2/4 [00:12<00:12,  6.36s/it]"
     ]
    },
    {
     "output_type": "stream",
     "name": "stdout",
     "text": [
      "Processing rows from 0 to 76\n",
      "Processing rows from 0 to 71\n",
      "Processing rows from 0 to 69\n",
      "Processing rows from 0 to 95\n"
     ]
    },
    {
     "output_type": "stream",
     "name": "stderr",
     "text": [
      " 75%|███████▌  | 3/4 [00:18<00:06,  6.05s/it]"
     ]
    },
    {
     "output_type": "stream",
     "name": "stdout",
     "text": [
      "Processing rows from 0 to 1\n"
     ]
    },
    {
     "output_type": "stream",
     "name": "stderr",
     "text": [
      "100%|██████████| 4/4 [00:21<00:00,  5.30s/it]\n"
     ]
    }
   ],
   "metadata": {}
  },
  {
   "cell_type": "markdown",
   "source": [
    "## Read the results from GeoDB"
   ],
   "metadata": {}
  },
  {
   "cell_type": "code",
   "execution_count": 1,
   "source": [
    "# reading from geodb is currently disabled because the out format is fixed to gpkg\n",
    "#geodb = GeoDBClient()\n",
    "#gdf_results = geodb.get_collection_pg(collection=trucks.geodb_collection)\n",
    "#gdf_results"
   ],
   "outputs": [],
   "metadata": {}
  },
  {
   "cell_type": "code",
   "execution_count": null,
   "source": [],
   "outputs": [],
   "metadata": {}
  }
 ],
 "metadata": {
  "celltoolbar": "Tags",
  "kernelspec": {
   "display_name": "EDC 0.24.5 (Python3)",
   "language": "python",
   "name": "edc"
  },
  "language_info": {
   "codemirror_mode": {
    "name": "ipython",
    "version": 3
   },
   "file_extension": ".py",
   "mimetype": "text/x-python",
   "name": "python",
   "nbconvert_exporter": "python",
   "pygments_lexer": "ipython3",
   "version": "3.9.5"
  }
 },
 "nbformat": 4,
 "nbformat_minor": 4
}